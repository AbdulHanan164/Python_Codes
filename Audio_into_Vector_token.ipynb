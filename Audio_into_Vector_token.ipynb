{
  "nbformat": 4,
  "nbformat_minor": 0,
  "metadata": {
    "colab": {
      "provenance": []
    },
    "kernelspec": {
      "name": "python3",
      "display_name": "Python 3"
    },
    "language_info": {
      "name": "python"
    }
  },
  "cells": [
    {
      "cell_type": "code",
      "execution_count": null,
      "metadata": {
        "colab": {
          "base_uri": "https://localhost:8080/"
        },
        "id": "DTSJXtOIr1kW",
        "outputId": "50030c28-bc3d-4c73-96c3-f72c3b7ae61a"
      },
      "outputs": [
        {
          "output_type": "stream",
          "name": "stdout",
          "text": [
            "22050\n",
            "[[-4.6899783e+02  0.0000000e+00  0.0000000e+00 ...  0.0000000e+00\n",
            "   0.0000000e+00  0.0000000e+00]\n",
            " [-4.6899783e+02  0.0000000e+00  0.0000000e+00 ...  0.0000000e+00\n",
            "   0.0000000e+00  0.0000000e+00]\n",
            " [-4.6899783e+02  0.0000000e+00  0.0000000e+00 ...  0.0000000e+00\n",
            "   0.0000000e+00  0.0000000e+00]\n",
            " ...\n",
            " [-4.1181485e+02  3.6549225e+01 -3.4865813e+00 ...  1.6941259e+00\n",
            "  -6.9285975e+00 -9.8647308e+00]\n",
            " [-4.1742960e+02  2.7809708e+01 -8.3168430e+00 ...  2.2085764e+00\n",
            "  -9.7456732e+00 -9.5922527e+00]\n",
            " [-4.3773090e+02  2.3981110e+01 -8.7521732e-02 ... -1.1306629e+00\n",
            "  -9.8161478e+00 -1.1370607e+01]]\n"
          ]
        }
      ],
      "source": [
        "import librosa\n",
        "import numpy as np\n",
        "\n",
        "# Load audio file\n",
        "audio_file = \"/content/JAHAAN_TUM_HO_LYRICS___SHREY_SINGHAL___ABHENDRA_KUMAR_UPADHYAY___HINDI_SONGS__(128k).mp3\"\n",
        "audio_signal, sample_rate = librosa.load(audio_file)\n",
        "\n",
        "# Extract MFCC features\n",
        "mfccs = librosa.feature.mfcc(y=audio_signal, sr=sample_rate, n_mfcc=13)\n",
        "\n",
        "# Tokenization (assuming each MFCC frame as a token)\n",
        "tokens = mfccs.T  # Transpose for tokenization\n",
        "\n",
        "# Vectorization (convert tokens into vectors)\n",
        "token_vectors = []\n",
        "for token in tokens:\n",
        "    # Convert each token into a vector\n",
        "    token_vector = np.array(token)\n",
        "    token_vectors.append(token_vector)\n",
        "\n",
        "# Convert token vectors to NumPy array\n",
        "token_vectors = np.array(token_vectors)\n",
        "\n",
        "# Now token_vectors contains the vectorized form of the audio\n",
        "print(token_vectors)\n"
      ]
    }
  ]
}